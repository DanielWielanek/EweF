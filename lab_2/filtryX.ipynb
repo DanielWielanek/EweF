{
 "cells": [
  {
   "cell_type": "markdown",
   "id": "f4d523a2-37ae-48dd-bd4f-5370fef3ca4f",
   "metadata": {
    "tags": []
   },
   "source": [
    "# Układy liniowe\n",
    "Kody pomocniczne:\n",
    "processArray - zwraca jednowymiarową tablicę z pliku parametry:\n",
    "* arrname = nazwa zmiennej (wyjście jest kodem który trzeba wkleić żeby coś narysować)\n",
    "* filename = nazwa pliku do wczytania\n",
    "* start, end numer pierwszego i ostatniego wiersza do wczytania\n",
    "* col = numer kolumny do wczytania\n",
    "* dbg = flaga do debugowania\n",
    "\n",
    "makePlotSim - rysuje wykres amplitudowy/częstotliwościowy :\n",
    "* freq - tablica częstotliwości\n",
    "* gain - tablica amplitudy\n",
    "* phase - tablica fazy\n",
    "* freqHz - częstotliwość graniczna (rysuje pinową linię)\n",
    "\n",
    "\n",
    "makePlotSim - rysuje wykres amplitdowy/częstotliwości symulacje + dane\n",
    "\n",
    "makeOscPlot - rysuje obraze z oscyloskopu\n",
    "* t1, t2 - czasy z kanałów\n",
    "* ch1, ch2 - sygnały z kanałów\n",
    "* offset  - przesunięcie czasu (wykresy ładniej wyglądają jak się zaczynają od zera, nieprawdaż :)"
   ]
  },
  {
   "cell_type": "markdown",
   "id": "f8cca7ce-81a5-4343-8262-56f65b2825c0",
   "metadata": {
    "tags": []
   },
   "source": [
    "## kody pomocnicze"
   ]
  },
  {
   "cell_type": "code",
   "execution_count": null,
   "id": "bd669935-08e3-4b0d-b938-9bdac3294c32",
   "metadata": {},
   "outputs": [],
   "source": [
    "import numpy as np\n",
    "import matplotlib.pyplot as plt\n",
    "from matplotlib.ticker import FormatStrFormatter\n",
    "import matplotlib.ticker as ticker\n",
    "\n",
    "def makePhasePlotSim(freq, gain, phase, freqHz=0., ):\n",
    "    G = gain.copy()\n",
    "    F = freq.copy()\n",
    "    P = phase.copy()\n",
    "    fig, axes = plt.subplots(2,1)\n",
    "    fig.set_size_inches(8,8)\n",
    "    axes[0].plot(F,G,\"#ff0000\")\n",
    "    axes[1].plot(F,P,\"#00ff00\")\n",
    "    axes[0].set_xscale('log')\n",
    "    axes[1].set_xscale('log')\n",
    "    axes[0].set_xlabel(\"freq (Hz)\")\n",
    "    axes[1].set_xlabel(\"freq (Hz)\")\n",
    "    axes[0].set_ylabel(\"Amp (dB)\")\n",
    "    axes[1].set_ylabel(\"phase (deg)\")\n",
    "    if freqHz!=0:\n",
    "        axes[0].axvline(freqHz,color=\"b\",linestyle=\"dotted\")\n",
    "        axes[1].axvline(freqHz,color=\"b\",linestyle=\"dotted\")\n",
    "    axes[0].grid(True)\n",
    "    axes[1].grid(True)\n",
    "\n",
    "    plt.tight_layout()\n",
    "    plt.show()\n",
    "    \n",
    "def makePhasePlotSim2(freq1, gain1, phase1,freq2, gain2, phase2):\n",
    "  #  freq = processFile(filename, start_line,end_line, col=0)\n",
    "  #  gain = processFile(filename, start_line,end_line, col=1)\n",
    "  #  phase = processFile(filename, start_line,end_line, col=3,dbg=False)\n",
    "    G1 = gain1.copy()\n",
    "    G2 = gain2.copy()\n",
    "    P1 = phase1.copy()\n",
    "    P2 = phase2.copy()\n",
    "    F1 = freq1.copy()\n",
    "    F2 = freq2.copy()\n",
    "    fig, axes = plt.subplots(2,1)\n",
    "    fig.set_size_inches(8,8)\n",
    "    axes[0].plot(F1,G1,\"#ff0000\",label=\"sim\")\n",
    "    axes[1].plot(F1,P1,\"#ff0000\",label=\"sim\")\n",
    "    axes[0].plot(F2,G2,\"#00ff00\",marker=\"o\",label=\"data\")\n",
    "    axes[1].plot(F2,P2,\"#00ff00\",marker=\"o\",label=\"data\")\n",
    "    axes[0].set_xscale('log')\n",
    "    axes[1].set_xscale('log')\n",
    "    axes[0].set_xlabel(\"freq (Hz)\")\n",
    "    axes[1].set_xlabel(\"freq (Hz)\")\n",
    "    axes[0].set_ylabel(\"Amp (dB)\")\n",
    "    axes[1].set_ylabel(\"phase (deg)\")\n",
    "    axes[0].grid(True)\n",
    "    axes[1].grid(True)\n",
    "    axes[1].legend(loc=\"lower right\")\n",
    "    axes[0].legend(loc=\"lower left\")\n",
    "    axes[1].grid(True)\n",
    "    plt.tight_layout()\n",
    "    plt.show()    \n",
    "    \n",
    "\n",
    "def makeOscPlot(t1, ch1, t2, ch2, offset = 0):\n",
    "    fig, axes = plt.subplots(1,1)\n",
    "    t1_copy = t1.copy() - offset\n",
    "    t2_copy = t2.copy()-offset\n",
    "    axes.plot(t1_copy,ch1,\"#ff0000\",label=\"ch1 (source)\")\n",
    "    axes.plot(t2_copy,ch2,\"#0000ff\",label=\"ch2 (response)\")\n",
    "    axes.set_xlabel(\"t (us)\")\n",
    "    axes.set_ylabel(\"U (V)\")\n",
    "    axes.legend(loc=\"lower right\")\n",
    "    plt.tight_layout()\n",
    "    plt.show()\n",
    "\n",
    "class osci_data:\n",
    "    def __init__(self): \n",
    "        self.t1= None # czas 1 \n",
    "        self.t2 = None\n",
    "        self.ch1= None # kanal 1\n",
    "        self.ch2 = None\n",
    "    \n",
    "class filter_dataset:\n",
    "    def __init__(self):\n",
    "        self.freq_data=None\n",
    "        self.freq_sim=None\n",
    "        self.phase_data=None\n",
    "        self.phase_sim = None\n",
    "        self.gain_data = None\n",
    "        self.gain_sim = None\n",
    "        self.freq_01_sim = osci_data()\n",
    "        self.freq_10_sim = osci_data()\n",
    "        self.freq_01_data = osci_data()\n",
    "        self.freq_10_data = osci_data()"
   ]
  },
  {
   "cell_type": "markdown",
   "id": "ccbee263-2e0f-42d3-86f8-21823039bfdc",
   "metadata": {
    "tags": []
   },
   "source": [
    "## Filtr dolnoprzepustowy:"
   ]
  },
  {
   "cell_type": "markdown",
   "id": "aa4bebed-e7cc-490c-8623-517fb8fcbb29",
   "metadata": {},
   "source": [
    "Dane:"
   ]
  },
  {
   "cell_type": "code",
   "execution_count": null,
   "id": "0a661b72-19e0-4d77-902f-db4fa5cc2a01",
   "metadata": {},
   "outputs": [],
   "source": [
    "# tutaj tworzymy wypełnione tablice\n",
    "\n"
   ]
  },
  {
   "cell_type": "code",
   "execution_count": null,
   "id": "9a6c8b1c-def9-4099-9443-a0b0e5c51204",
   "metadata": {},
   "outputs": [],
   "source": [
    "Filter =  filter_dataset()\n",
    "\n",
    "# tutaj sobie tworzymy wypełnione tablice \n",
    "\n",
    "# freq - czestotliwosci\n",
    "# data - dane\n",
    "# sim - symulacja\n",
    "# gain - amplitudoa\n",
    "# phase - faza\n",
    "#freq_01 dane dla f = 0.1 fg\n",
    "#freq_10 dane dla f = 10 fg\n",
    "\n",
    "Filter.freq_sim = freq_sim\n",
    "Filter.gain_sim = gain_sim\n",
    "Filter.phase_sim = phase_sim\n",
    "\n",
    "Filter.gain_data = gain_data\n",
    "Filter.freq_data = freq_data\n",
    "Filter.phase_data = phase_data\n",
    "\n",
    "Filter.freq_01_sim.t1 = t1_01_sim \n",
    "Filter.freq_01_sim.t2 = t2_01_sim\n",
    "Filter.freq_01_sim.ch1 = ch1_01_sim\n",
    "Filter.freq_01_sim.ch2 = ch2_01_sim\n",
    "Filter.freq_01_data.t1 = t1_01_data\n",
    "Filter.freq_01_data.t2 = t2_01_data\n",
    "Filter.freq_01_data.ch1 = ch1_01_data \n",
    "Filter.freq_01_data.ch2 = ch2_01_data\n",
    "\n",
    "Filter.freq_10_sim.t1 = t1_10_sim\n",
    "Filter.freq_10_sim.t2 = t2_10_sim\n",
    "Filter.freq_10_sim.ch1 = ch1_10_sim\n",
    "Filter.freq_10_sim.ch2 = ch2_10_sim\n",
    "Filter.freq_10_data.t1 = t1_10_data\n",
    "Filter.freq_10_data.t2 = t2_10_data\n",
    "Filter.freq_10_data.ch1 = ch1_10_data \n",
    "Filter.freq_10_data.ch2 = ch2_10_data"
   ]
  },
  {
   "cell_type": "markdown",
   "id": "2c7ea986-dd5e-4f91-8933-aadd94ec5bae",
   "metadata": {},
   "source": [
    "### Symulacja\n",
    "Wykres charektrystyki amplitudowej i fazowej."
   ]
  },
  {
   "cell_type": "code",
   "execution_count": null,
   "id": "0f5581bc-10de-4957-aaad-01c015880795",
   "metadata": {},
   "outputs": [],
   "source": [
    "makePhasePlotSim(Filter.freq_sim, Filter.gain_sim, Filter.phase_sim)\n"
   ]
  },
  {
   "cell_type": "markdown",
   "id": "39e9b6ca-4b8e-465a-8e82-50c0c43f4f27",
   "metadata": {},
   "source": [
    "Odpowiedź układu na sygnał prostokątny o częstotliwośi 0.1 fg"
   ]
  },
  {
   "cell_type": "code",
   "execution_count": null,
   "id": "7e394bf6-a5e1-4e0b-9ffa-5bd736f66d86",
   "metadata": {},
   "outputs": [],
   "source": [
    "makeOscPlot(Filter.freq_01_sim.t1,Filter.freq_01_sim.ch1,Filter.freq_01_sim.t2,Filter.freq_01_sim.ch2 ,offset=740000)"
   ]
  },
  {
   "cell_type": "markdown",
   "id": "24f73602-2aa5-4e8d-93d0-48c6213857bd",
   "metadata": {},
   "source": [
    "Odpowiedź układu na sygnał prostokątny o częstotliwośi 10 fg"
   ]
  },
  {
   "cell_type": "code",
   "execution_count": null,
   "id": "4ca2545b-2ed3-488d-8100-505bd5d879b2",
   "metadata": {},
   "outputs": [],
   "source": [
    "makeOscPlot(Filter.freq_10_sim.t1,Filter.freq_10_sim.ch1,Filter.freq_10_sim.t2,Filter.freq_10_sim.ch2 )"
   ]
  },
  {
   "cell_type": "markdown",
   "id": "faa5964f-13bf-41b9-9471-8921da2e1c6d",
   "metadata": {},
   "source": [
    "### Pomiar\n",
    "Wykres charakterystyki fazowej i amplitudowej."
   ]
  },
  {
   "cell_type": "code",
   "execution_count": null,
   "id": "939941c1-4fe8-4323-936c-65bf46865a44",
   "metadata": {},
   "outputs": [],
   "source": [
    "makePhasePlotSim(Filter.freq_data, Filter.gain_data, Filter.phase_data)"
   ]
  },
  {
   "cell_type": "markdown",
   "id": "3cfbd27a-87ae-4e74-bf44-9747f2a44ab1",
   "metadata": {},
   "source": [
    "Odpowiedź układu na sygnał prostokątny o częstotliwośi 0.1 fg"
   ]
  },
  {
   "cell_type": "code",
   "execution_count": null,
   "id": "78400258-a8d0-4213-a6b2-8f1fbdba9dad",
   "metadata": {},
   "outputs": [],
   "source": [
    "makeOscPlot(Filter.freq_01_data.t1,Filter.freq_01_data.ch1,Filter.freq_01_data.t2,Filter.freq_01_data.ch2 )"
   ]
  },
  {
   "cell_type": "markdown",
   "id": "8f38b442-e797-4e59-84ab-7f14b0fea1d3",
   "metadata": {},
   "source": [
    "Odpowiedź układu na sygnał prostokątny o częstotliwośi 10 fg"
   ]
  },
  {
   "cell_type": "code",
   "execution_count": null,
   "id": "2473796e-41bf-4a74-ad2b-fc0973b6bdc1",
   "metadata": {},
   "outputs": [],
   "source": [
    "makeOscPlot(Filter.freq_10_data.t1,Filter.freq_10_data.ch1,Filter.freq_10_data.t2,Filter.freq_10_data.ch2 )"
   ]
  },
  {
   "cell_type": "markdown",
   "id": "9a11c3d3-b48f-448d-8943-c3785f5cfad0",
   "metadata": {},
   "source": [
    "### <font color='red'>Czas narastania:<font>\n",
    "Dla częstotliwości dziesięciokrotnie mniejszej od częstotliwości granicznej policzyć czas narastania:"
   ]
  },
  {
   "cell_type": "code",
   "execution_count": null,
   "id": "e4c6c71d-e3bb-4b83-9762-a3ad3359482b",
   "metadata": {},
   "outputs": [],
   "source": [
    "t01 = 1\n",
    "t09 = 0\n",
    "t_narastania = t09-t01\n",
    "print(\"czas narastania (symulacja): {0} {1}\".format(t_narastania,\"nazwa jednostki\"))\n",
    "t01 = 1\n",
    "t09 = 0\n",
    "t_narastania = t09-t01\n",
    "print(\"czas narastania (dane): {0} {1}\".format(t_narastania,\"nazwa jednostki\"))"
   ]
  },
  {
   "cell_type": "markdown",
   "id": "c6c7d1ec-0f30-4466-a649-74d41a456bcc",
   "metadata": {},
   "source": [
    "### Porównania:\n",
    "Porównanie symulacji z pomiarem charakterysytka fazowa i amplitudowa."
   ]
  },
  {
   "cell_type": "code",
   "execution_count": null,
   "id": "898c606a-3d7c-41c9-a6d9-ee7baa915efe",
   "metadata": {},
   "outputs": [],
   "source": [
    "makePhasePlotSim2(Filter.freq_sim, Filter.gain_sim, Filter.phase_sim,Filter.freq_data, Filter.gain_data, Filter.phase_data)"
   ]
  },
  {
   "cell_type": "markdown",
   "id": "956b16fa-3511-4f4e-a961-45993902816c",
   "metadata": {
    "tags": []
   },
   "source": [
    "## Filtr górnoprzepustowy:"
   ]
  },
  {
   "cell_type": "markdown",
   "id": "b26b79d2-9d0d-41f8-9680-ba823f429ec7",
   "metadata": {},
   "source": [
    "Dane:"
   ]
  },
  {
   "cell_type": "code",
   "execution_count": null,
   "id": "9f1c04d3-c4c9-4480-a2a6-bf4da9d8e25b",
   "metadata": {},
   "outputs": [],
   "source": [
    "# tutaj tworzymy wypełnione tablice np.\n"
   ]
  },
  {
   "cell_type": "code",
   "execution_count": null,
   "id": "0cafd83e-05c6-49c3-bb32-c951f9a848a8",
   "metadata": {},
   "outputs": [],
   "source": [
    "Filter =  filter_dataset()\n",
    "\n",
    "# freq - czestotliwosci\n",
    "# data - dane\n",
    "# sim - symulacja\n",
    "# gain - amplitudoa\n",
    "# phase - faza\n",
    "#freq_01 dane dla f = 0.1 fg\n",
    "#freq_10 dane dla f = 10 fg\n",
    "\n",
    "Filter.freq_sim = freq_sim\n",
    "Filter.gain_sim = gain_sim\n",
    "Filter.phase_sim = phase_sim\n",
    "\n",
    "Filter.gain_data = gain_data\n",
    "Filter.freq_data = freq_data\n",
    "Filter.phase_data = phase_data\n",
    "\n",
    "Filter.freq_01_sim.t1 = t1_01_sim \n",
    "Filter.freq_01_sim.t2 = t2_01_sim\n",
    "Filter.freq_01_sim.ch1 = ch1_01_sim\n",
    "Filter.freq_01_sim.ch2 = ch2_01_sim\n",
    "Filter.freq_01_data.t1 = t1_01_data\n",
    "Filter.freq_01_data.t2 = t2_01_data\n",
    "Filter.freq_01_data.ch1 = ch1_01_data \n",
    "Filter.freq_01_data.ch2 = ch2_01_data\n",
    "\n",
    "Filter.freq_10_sim.t1 = t1_10_sim\n",
    "Filter.freq_10_sim.t2 = t2_10_sim\n",
    "Filter.freq_10_sim.ch1 = ch1_10_sim\n",
    "Filter.freq_10_sim.ch2 = ch2_10_sim\n",
    "Filter.freq_10_data.t1 = t1_10_data\n",
    "Filter.freq_10_data.t2 = t2_10_data\n",
    "Filter.freq_10_data.ch1 = ch1_10_data \n",
    "Filter.freq_10_data.ch2 = ch2_10_data"
   ]
  },
  {
   "cell_type": "markdown",
   "id": "bc86ada0-7c05-45b8-b37c-6446b496fb96",
   "metadata": {},
   "source": [
    "### Symulacja\n",
    "Wykres charektrystyki amplitudowej i fazowej:"
   ]
  },
  {
   "cell_type": "code",
   "execution_count": null,
   "id": "6f6a44dc-952f-4e41-a127-707eb066710a",
   "metadata": {},
   "outputs": [],
   "source": [
    "makePhasePlotSim(Filter.freq_sim, Filter.gain_sim, Filter.phase_sim)\n"
   ]
  },
  {
   "cell_type": "markdown",
   "id": "809d6955-643c-4d55-b1d8-f4b01b588500",
   "metadata": {},
   "source": [
    "Odpowiedź układu na sygnał prostokątny o częstotliwośi 0.1 fg"
   ]
  },
  {
   "cell_type": "code",
   "execution_count": null,
   "id": "04401ad6-8bdd-4531-ab54-05f75fecee6c",
   "metadata": {},
   "outputs": [],
   "source": [
    "makeOscPlot(Filter.freq_01_sim.t1,Filter.freq_01_sim.ch1,Filter.freq_01_sim.t2,Filter.freq_01_sim.ch2 )"
   ]
  },
  {
   "cell_type": "markdown",
   "id": "25b5e910-1043-4673-94b8-ccdade4f57bb",
   "metadata": {},
   "source": [
    "Odpowiedź układu na sygnał prostokątny o częstotliwośi 10 fg"
   ]
  },
  {
   "cell_type": "code",
   "execution_count": null,
   "id": "4604693b-021d-4135-a801-2c3a93a6cc72",
   "metadata": {},
   "outputs": [],
   "source": [
    "makeOscPlot(Filter.freq_10_sim.t1,Filter.freq_10_sim.ch1,Filter.freq_10_sim.t2,Filter.freq_10_sim.ch2 )"
   ]
  },
  {
   "cell_type": "markdown",
   "id": "cd3b7e8a-4a11-48e4-81bc-35ce82947b04",
   "metadata": {},
   "source": [
    "### Pomiar\n",
    "Wykres charakterystyki fazowej i amplitudowej, wraz z zaznaczoną częstotliwością graniczną."
   ]
  },
  {
   "cell_type": "code",
   "execution_count": null,
   "id": "8b67e080-e991-4232-89bc-ba50049b5773",
   "metadata": {},
   "outputs": [],
   "source": [
    "makePhasePlotSim(Filter.freq_data, Filter.gain_data, Filter.phase_data)"
   ]
  },
  {
   "cell_type": "markdown",
   "id": "682ae4e3-24fe-46b7-8277-0ab597f7b456",
   "metadata": {},
   "source": [
    "Odpowiedź układu na sygnał prostokątny o częstotliwośi 0.1 fg"
   ]
  },
  {
   "cell_type": "code",
   "execution_count": null,
   "id": "dc8aa979-f045-449c-ad5a-26420b10b5d4",
   "metadata": {},
   "outputs": [],
   "source": [
    "makeOscPlot(Filter.freq_01_data.t1,Filter.freq_01_data.ch1,Filter.freq_01_data.t2,Filter.freq_01_data.ch2 )"
   ]
  },
  {
   "cell_type": "markdown",
   "id": "c01cdd06-70f1-4706-ac58-85104d2ffb77",
   "metadata": {},
   "source": [
    "Odpowiedź układu na sygnał prostokątny o częstotliwośi 10 fg"
   ]
  },
  {
   "cell_type": "code",
   "execution_count": null,
   "id": "271f5dcd-7c1c-4634-ab24-e7afed52f17e",
   "metadata": {},
   "outputs": [],
   "source": [
    "makeOscPlot(Filter.freq_10_data.t1,Filter.freq_10_data.ch1,Filter.freq_10_data.t2,Filter.freq_10_data.ch2 )"
   ]
  },
  {
   "cell_type": "markdown",
   "id": "f4357d35-43ba-4c88-a75c-3da816444c35",
   "metadata": {},
   "source": [
    "### <font color='red'>pomiary zwisu:</font>\n",
    "Dokonać oszacowania zwisu dla częstotliwości 10 większej od fg."
   ]
  },
  {
   "cell_type": "code",
   "execution_count": null,
   "id": "2127d55e-d0ca-49fb-9c73-b216d646a7ba",
   "metadata": {},
   "outputs": [],
   "source": [
    "U1 = 1\n",
    "U2 = 1\n",
    "z = (U1-U2)/U1\n",
    "print(\"zwis (symulacja): {0} %\".format(z*100.0))\n",
    "U1 = 1\n",
    "U2 = 1\n",
    "z = (U1-U2)/U1\n",
    "print(\"zwis (dane): {0} %\".format(z*100.0))"
   ]
  },
  {
   "cell_type": "code",
   "execution_count": null,
   "id": "d56305a6-64bb-415a-96a0-3570d64fec34",
   "metadata": {},
   "outputs": [],
   "source": []
  },
  {
   "cell_type": "markdown",
   "id": "b40df82b-46b5-4da2-826b-daeb3ba0bccd",
   "metadata": {},
   "source": [
    "### Porównania:\n",
    "Porównanie symulacji z pomiarem charakterysytka fazowa i amplitudowa:"
   ]
  },
  {
   "cell_type": "code",
   "execution_count": null,
   "id": "6598161d-e267-4382-9e00-acbc00c8dff0",
   "metadata": {},
   "outputs": [],
   "source": [
    "makePhasePlotSim2(Filter.freq_sim, Filter.gain_sim, Filter.phase_sim,Filter.freq_data, Filter.gain_data, Filter.phase_data)"
   ]
  },
  {
   "cell_type": "markdown",
   "id": "2f4d028b-6023-439c-bc95-96588dbee5aa",
   "metadata": {
    "tags": []
   },
   "source": [
    "## Nieskompensowany dzielnik napięcia:"
   ]
  },
  {
   "cell_type": "markdown",
   "id": "03d13ac0-1b65-457d-bad1-034a856d391c",
   "metadata": {},
   "source": [
    "Dane:"
   ]
  },
  {
   "cell_type": "code",
   "execution_count": null,
   "id": "0e5c9a4f-5766-4067-9143-5ebb5174f357",
   "metadata": {},
   "outputs": [],
   "source": []
  },
  {
   "cell_type": "code",
   "execution_count": null,
   "id": "11d40a7b-039a-4f9a-be38-e4a6d97e7b8f",
   "metadata": {},
   "outputs": [],
   "source": [
    "Filter =  filter_dataset()\n",
    "\n",
    "\n",
    "# freq - czestotliwosci\n",
    "# data - dane\n",
    "# sim - symulacja\n",
    "# gain - amplitudoa\n",
    "# phase - faza\n",
    "#freq_01 dane dla f = 0.1 fg\n",
    "#freq_10 dane dla f = 10 fg\n",
    "\n",
    "Filter.freq_sim = freq_sim\n",
    "Filter.gain_sim = gain_sim\n",
    "Filter.phase_sim = phase_sim\n",
    "\n",
    "Filter.gain_data = gain_data\n",
    "Filter.freq_data = freq_data\n",
    "Filter.phase_data = phase_data\n",
    "\n",
    "Filter.freq_01_sim.t1 = t1_01_sim \n",
    "Filter.freq_01_sim.t2 = t2_01_sim\n",
    "Filter.freq_01_sim.ch1 = ch1_01_sim\n",
    "Filter.freq_01_sim.ch2 = ch2_01_sim\n",
    "Filter.freq_01_data.t1 = t1_01_data\n",
    "Filter.freq_01_data.t2 = t2_01_data\n",
    "Filter.freq_01_data.ch1 = ch1_01_data \n",
    "Filter.freq_01_data.ch2 = ch2_01_data\n",
    "\n",
    "Filter.freq_10_sim.t1 = t1_10_sim\n",
    "Filter.freq_10_sim.t2 = t2_10_sim\n",
    "Filter.freq_10_sim.ch1 = ch1_10_sim\n",
    "Filter.freq_10_sim.ch2 = ch2_10_sim\n",
    "Filter.freq_10_data.t1 = t1_10_data\n",
    "Filter.freq_10_data.t2 = t2_10_data\n",
    "Filter.freq_10_data.ch1 = ch1_10_data \n",
    "Filter.freq_10_data.ch2 = ch2_10_data"
   ]
  },
  {
   "cell_type": "markdown",
   "id": "708fe296-93ec-4e61-b886-e09dc677595c",
   "metadata": {},
   "source": [
    "### Symulacja\n",
    "Wykres charektrystyki amplitudowej i fazowej:"
   ]
  },
  {
   "cell_type": "code",
   "execution_count": null,
   "id": "c0df7348-e425-4f70-b98c-a32a5c015c18",
   "metadata": {},
   "outputs": [],
   "source": [
    "makePhasePlotSim(Filter.freq_sim, Filter.gain_sim, Filter.phase_sim)\n"
   ]
  },
  {
   "cell_type": "markdown",
   "id": "2bf54131-271a-4607-9e4a-fdf671244b9a",
   "metadata": {},
   "source": [
    "Odpowiedź układu na sygnał prostokątny o częstotliwośi 0.1 fg"
   ]
  },
  {
   "cell_type": "code",
   "execution_count": null,
   "id": "1fb11d26-9574-4baf-b15a-a87bb4a1eb34",
   "metadata": {},
   "outputs": [],
   "source": [
    "makeOscPlot(Filter.freq_01_sim.t1,Filter.freq_01_sim.ch1,Filter.freq_01_sim.t2,Filter.freq_01_sim.ch2 )"
   ]
  },
  {
   "cell_type": "markdown",
   "id": "e10223af-4c48-416b-bd46-2461299964b9",
   "metadata": {},
   "source": [
    "Odpowiedź układu na sygnał prostokątny o częstotliwośi 10 fg"
   ]
  },
  {
   "cell_type": "code",
   "execution_count": null,
   "id": "1cae5098-105e-473d-b61e-a1b22c3e9539",
   "metadata": {},
   "outputs": [],
   "source": [
    "makeOscPlot(Filter.freq_10_sim.t1,Filter.freq_10_sim.ch1,Filter.freq_10_sim.t2,Filter.freq_10_sim.ch2 )"
   ]
  },
  {
   "cell_type": "markdown",
   "id": "c23f9085-cd8e-4a49-83f7-3aa8f979fad7",
   "metadata": {},
   "source": [
    "### Pomiar\n",
    "Wykres charakterystyki fazowej i amplitudowej"
   ]
  },
  {
   "cell_type": "code",
   "execution_count": null,
   "id": "e9246992-a479-4bb3-a132-7128139b0796",
   "metadata": {},
   "outputs": [],
   "source": [
    "makePhasePlotSim(Filter.freq_data, Filter.gain_data, Filter.phase_data)"
   ]
  },
  {
   "cell_type": "markdown",
   "id": "2237437b-2bc2-4e70-9ea4-fef82accbeaf",
   "metadata": {},
   "source": [
    "Odpowiedź układu na sygnał prostokątny o częstotliwośi 0.1 fg"
   ]
  },
  {
   "cell_type": "code",
   "execution_count": null,
   "id": "dc94a8ab-ba1d-42f5-9824-034a1a366ef0",
   "metadata": {},
   "outputs": [],
   "source": [
    "makeOscPlot(Filter.freq_01_data.t1,Filter.freq_01_data.ch1,Filter.freq_01_data.t2,Filter.freq_01_data.ch2 )"
   ]
  },
  {
   "cell_type": "markdown",
   "id": "b627b060-9064-4be8-8643-50de72da707f",
   "metadata": {},
   "source": [
    "Odpowiedź układu na sygnał prostokątny o częstotliwośi 10 fg"
   ]
  },
  {
   "cell_type": "code",
   "execution_count": null,
   "id": "5a4c3d4b-a167-4ad8-a734-b2f3fbbd4c00",
   "metadata": {},
   "outputs": [],
   "source": [
    "makeOscPlot(Filter.freq_10_data.t1,Filter.freq_10_data.ch1,Filter.freq_10_data.t2,Filter.freq_10_data.ch2 )"
   ]
  },
  {
   "cell_type": "markdown",
   "id": "da59ce19-ffd9-431a-903a-322b74fd71c5",
   "metadata": {},
   "source": [
    "### Porównania:\n",
    "Porównanie symulacji z pomiarem charakterysytka fazowa i amplitudowa:"
   ]
  },
  {
   "cell_type": "code",
   "execution_count": null,
   "id": "31fece28-bd5d-4372-9e43-7e7d247fd321",
   "metadata": {},
   "outputs": [],
   "source": [
    "makePhasePlotSim2(Filter.freq_sim, Filter.gain_sim, Filter.phase_sim,Filter.freq_data, Filter.gain_data, Filter.phase_data)"
   ]
  },
  {
   "cell_type": "code",
   "execution_count": null,
   "id": "de0b99b7-00cd-49f7-b817-a4099c5807cc",
   "metadata": {},
   "outputs": [],
   "source": []
  },
  {
   "cell_type": "markdown",
   "id": "8759e1e1-f1fd-4603-97c1-f051de79a00b",
   "metadata": {
    "tags": []
   },
   "source": [
    "## Skompensowany dzielnik napięcia:"
   ]
  },
  {
   "cell_type": "markdown",
   "id": "be13c3ed-beef-44d0-af47-e3ba67767a26",
   "metadata": {},
   "source": [
    "Dane:"
   ]
  },
  {
   "cell_type": "code",
   "execution_count": null,
   "id": "447045ea-b10f-4fe8-8524-84ff698866a2",
   "metadata": {},
   "outputs": [],
   "source": []
  },
  {
   "cell_type": "code",
   "execution_count": null,
   "id": "2140e2a5-a487-4e2b-8252-c4dd6dc67b2e",
   "metadata": {},
   "outputs": [],
   "source": [
    "Filter =  filter_dataset()\n",
    "\n",
    "# freq - czestotliwosci\n",
    "# data - dane\n",
    "# sim - symulacja\n",
    "# gain - amplitudoa\n",
    "# phase - faza\n",
    "#freq_01 dane dla f = 0.1 fg\n",
    "#freq_10 dane dla f = 10 fg\n",
    "\n",
    "Filter.freq_sim = freq_sim\n",
    "Filter.gain_sim = gain_sim\n",
    "Filter.phase_sim = phase_sim\n",
    "\n",
    "Filter.gain_data = gain_data\n",
    "Filter.freq_data = freq_data\n",
    "Filter.phase_data = phase_data\n",
    "\n",
    "Filter.freq_01_sim.t1 = t1_01_sim \n",
    "Filter.freq_01_sim.t2 = t2_01_sim\n",
    "Filter.freq_01_sim.ch1 = ch1_01_sim\n",
    "Filter.freq_01_sim.ch2 = ch2_01_sim\n",
    "Filter.freq_01_data.t1 = t1_01_data\n",
    "Filter.freq_01_data.t2 = t2_01_data\n",
    "Filter.freq_01_data.ch1 = ch1_01_data \n",
    "Filter.freq_01_data.ch2 = ch2_01_data\n",
    "\n",
    "Filter.freq_10_sim.t1 = t1_10_sim\n",
    "Filter.freq_10_sim.t2 = t2_10_sim\n",
    "Filter.freq_10_sim.ch1 = ch1_10_sim\n",
    "Filter.freq_10_sim.ch2 = ch2_10_sim\n",
    "Filter.freq_10_data.t1 = t1_10_data\n",
    "Filter.freq_10_data.t2 = t2_10_data\n",
    "Filter.freq_10_data.ch1 = ch1_10_data \n",
    "Filter.freq_10_data.ch2 = ch2_10_data"
   ]
  },
  {
   "cell_type": "markdown",
   "id": "be11f4b2-2def-431f-aaa8-26ddae78938e",
   "metadata": {},
   "source": [
    "### Symulacja\n",
    "Wykres charektrystyki amplitudowej i fazowej:"
   ]
  },
  {
   "cell_type": "code",
   "execution_count": null,
   "id": "a2e5efb7-a251-4fad-9d21-5664476a7a61",
   "metadata": {},
   "outputs": [],
   "source": [
    "makePhasePlotSim(Filter.freq_sim, Filter.gain_sim, Filter.phase_sim)\n"
   ]
  },
  {
   "cell_type": "markdown",
   "id": "28aa2d23-7d02-4a5b-8f2c-385d78fc8c44",
   "metadata": {},
   "source": [
    "Odpowiedź układu na sygnał prostokątny o częstotliwośi 0.1 fg"
   ]
  },
  {
   "cell_type": "code",
   "execution_count": null,
   "id": "438bea5d-9cff-40c0-a230-6b8909088594",
   "metadata": {},
   "outputs": [],
   "source": [
    "makeOscPlot(Filter.freq_01_sim.t1,Filter.freq_01_sim.ch1,Filter.freq_01_sim.t2,Filter.freq_01_sim.ch2 )"
   ]
  },
  {
   "cell_type": "markdown",
   "id": "e6ec22c9-fb5b-4172-be45-5f1a26fa044a",
   "metadata": {},
   "source": [
    "Odpowiedź układu na sygnał prostokątny o częstotliwośi 10 fg"
   ]
  },
  {
   "cell_type": "code",
   "execution_count": null,
   "id": "e4af8ec2-860a-475f-98f6-bfcc21b1bcec",
   "metadata": {},
   "outputs": [],
   "source": [
    "makeOscPlot(Filter.freq_10_sim.t1,Filter.freq_10_sim.ch1,Filter.freq_10_sim.t2,Filter.freq_10_sim.ch2 )"
   ]
  },
  {
   "cell_type": "markdown",
   "id": "2f09b1a1-aead-4e7e-a204-f8f0c0045651",
   "metadata": {},
   "source": [
    "### Pomiar\n",
    "Wykres charakterystyki fazowej i amplitudowej"
   ]
  },
  {
   "cell_type": "code",
   "execution_count": null,
   "id": "19e28803-7ece-48f5-9466-16a973565362",
   "metadata": {},
   "outputs": [],
   "source": [
    "makePhasePlotSim(Filter.freq_data, Filter.gain_data, Filter.phase_data)"
   ]
  },
  {
   "cell_type": "markdown",
   "id": "3f1d0336-e5d5-45f2-b11e-c24e54fb8d74",
   "metadata": {},
   "source": [
    "Odpowiedź układu na sygnał prostokątny o częstotliwośi 0.1 fg"
   ]
  },
  {
   "cell_type": "code",
   "execution_count": null,
   "id": "9fd0f805-bb1e-4efd-a98d-19c1742a24d2",
   "metadata": {},
   "outputs": [],
   "source": [
    "makeOscPlot(Filter.freq_01_data.t1,Filter.freq_01_data.ch1,Filter.freq_01_data.t2,Filter.freq_01_data.ch2 )"
   ]
  },
  {
   "cell_type": "markdown",
   "id": "a904dc09-e9ba-446e-8306-e24b457eee5b",
   "metadata": {},
   "source": [
    "Odpowiedź układu na sygnał prostokątny o częstotliwośi 10 fg"
   ]
  },
  {
   "cell_type": "code",
   "execution_count": null,
   "id": "caa4d6c5-b6fa-4ca6-bc54-1e60b7e357fe",
   "metadata": {},
   "outputs": [],
   "source": [
    "makeOscPlot(Filter.freq_10_data.t1,Filter.freq_10_data.ch1,Filter.freq_10_data.t2,Filter.freq_10_data.ch2 )"
   ]
  },
  {
   "cell_type": "markdown",
   "id": "5f6fa7c9-762c-4a31-a037-bcc4a4085a50",
   "metadata": {},
   "source": [
    "### Porównania:\n",
    "Porównanie symulacji z pomiarem charakterysytka fazowa i amplitudowa:"
   ]
  },
  {
   "cell_type": "code",
   "execution_count": null,
   "id": "acf53194-f621-4e17-8a53-22ca288ffdf1",
   "metadata": {},
   "outputs": [],
   "source": [
    "makePhasePlotSim2(Filter.freq_sim, Filter.gain_sim, Filter.phase_sim,Filter.freq_data, Filter.gain_data, Filter.phase_data)"
   ]
  },
  {
   "cell_type": "code",
   "execution_count": null,
   "id": "03426202-35d4-462d-b86c-381647e5d20a",
   "metadata": {},
   "outputs": [],
   "source": []
  },
  {
   "cell_type": "markdown",
   "id": "47e44f10-32f3-4b18-a72d-df042edf2d08",
   "metadata": {},
   "source": [
    "## Warunek na kompensacje dzielnika napięcia\n",
    "(wyprowadzenie i pojemność kondensatora C2)"
   ]
  },
  {
   "cell_type": "markdown",
   "id": "e7351969-41b5-4cfb-8867-695314b52885",
   "metadata": {},
   "source": [
    "### jak używać latex'a w Python:\n",
    "1. przełączyć komórkę w tryb \"markdown\" (tj. tekstowy)\n",
    "2. wpisać kod latex'a między dolarami przykład:\n",
    "$ E = mc^{2}$\n",
    "Typy:\n",
    "1. Znacznik dzielenia frac np. x przez y to \\frac{x}{y}, indeks góry ^ np. e^{x} = $ e^{x} $indeks dolny _ np u_{w} = $ u_{w} $\n",
    "2. Jest taka strona detexify (tam się rysuje znaczek i ona wypluwa kod latexowy)"
   ]
  },
  {
   "cell_type": "markdown",
   "id": "1e20494b-4a26-4dfe-bb78-ceaf1e921d60",
   "metadata": {},
   "source": [
    "$\\psi$"
   ]
  },
  {
   "cell_type": "markdown",
   "id": "b9257e52-c982-4b76-834c-3b2e8c0fa353",
   "metadata": {},
   "source": [
    "Częstotliwości graniczne - rachunek niepewności + wyniki (dla filtrów + nieskomensowanego dzielnika napięcia):"
   ]
  },
  {
   "cell_type": "code",
   "execution_count": null,
   "id": "65858739-9e75-40b0-9b90-eaa1c6e0b1fd",
   "metadata": {},
   "outputs": [],
   "source": []
  },
  {
   "cell_type": "markdown",
   "id": "1b7e3361-37b9-4a35-a97f-a17a644e3cb1",
   "metadata": {},
   "source": [
    "Częstotliwości graniczne - porównanie wyników z symulacjami:"
   ]
  },
  {
   "cell_type": "code",
   "execution_count": null,
   "id": "259aba11-f452-4a67-ae6a-6c481711834a",
   "metadata": {},
   "outputs": [],
   "source": []
  }
 ],
 "metadata": {
  "kernelspec": {
   "display_name": "Python 3 (ipykernel)",
   "language": "python",
   "name": "python3"
  },
  "language_info": {
   "codemirror_mode": {
    "name": "ipython",
    "version": 3
   },
   "file_extension": ".py",
   "mimetype": "text/x-python",
   "name": "python",
   "nbconvert_exporter": "python",
   "pygments_lexer": "ipython3",
   "version": "3.8.10"
  }
 },
 "nbformat": 4,
 "nbformat_minor": 5
}
