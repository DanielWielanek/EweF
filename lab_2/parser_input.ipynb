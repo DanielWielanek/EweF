{
 "cells": [
  {
   "cell_type": "markdown",
   "id": "dd06eb5c-b9dd-4f42-a7fc-b75bd7d6559e",
   "metadata": {},
   "source": [
    "# Parsowanie plików\n",
    "Procedura parsowania wygląda następująco\n",
    "1. Patrzymy na plik z symulacji/pomiaru, sprawdzamy którą kolumnę i wiersze mamy wczytać\n",
    "2. Następnie podajemy argumenty klasy processFile:\n",
    "    a) arrname - nazwa tablicy w której będą dane\n",
    "    b) filename  - nazwa pliku który otworzymy\n",
    "    c) start - pierwszy wiersz jaki będzie wczytany\n",
    "    d) end - ostatni wiersz jaki będzie wczytany\n",
    "    e) col - numer kolumny która będzie wczytana\n",
    "    f) dgb - flaga do debugowania (nie używać)\n",
    "    g) magic_time - wyniki pomiarów z oscyloskopu mają nietypowy format np. wyglądają tak \"17:53:58,785136\", jeśli magic_time jest true pierwsza część jest ucinana a druga parsowana (ostatecznie otrzymamy tutaj \"785136\")\n",
    "3. Kopiujemy tak uzyskane wyjścid do pola z kodem"
   ]
  },
  {
   "cell_type": "code",
   "execution_count": null,
   "id": "b8fa92e1-af91-4469-a0af-6a17379d66d2",
   "metadata": {},
   "outputs": [],
   "source": [
    "import numpy as np\n",
    "import matplotlib.pyplot as plt\n",
    "from matplotlib.ticker import FormatStrFormatter\n",
    "import matplotlib.ticker as ticker\n",
    "\n",
    "def printArray(name,array):\n",
    "    line = name\n",
    "    line +=str(\"=np.array([\")\n",
    "    size = array.size\n",
    "    for i in range(0, size-1):\n",
    "        line +=str(str(array[i])+\",\")\n",
    "    line += str(str(array[size-1])+\"])\")\n",
    "    print(line)\n",
    "    \n",
    "def processFile(arrname, filename, start=0, end=10, col=0, dbg=False, magic_time=False, step=1):\n",
    "    lineNo = 0\n",
    "    res = []\n",
    "    with open(filename) as infile:\n",
    "        for line in infile:\n",
    "            lineNo+=1\n",
    "            if(lineNo>=start and lineNo<=end):\n",
    "                array = line.split()\n",
    "                if lineNo%step !=0:\n",
    "                    continue\n",
    "                if dbg:\n",
    "                    print(array[col])\n",
    "                try:\n",
    "                    if magic_time:\n",
    "                        temp = array[col]\n",
    "                        temp = temp.split(',')\n",
    "                        res.append(int(temp[1]))\n",
    "                    else:\n",
    "                        array[col] = array[col].replace(',',\".\")\n",
    "                        res.append(float(array[col]))\n",
    "                except Exception as error:\n",
    "                    print(error)\n",
    "                    pass\n",
    "    \n",
    "    nparr = np.array(res)\n",
    "    if dbg:\n",
    "        print(nparr)\n",
    "        print(\"size \",nparr.size)\n",
    "    return printArray(arrname, np.array(res))"
   ]
  },
  {
   "cell_type": "code",
   "execution_count": null,
   "id": "6a6e5df1-a4e8-4c5f-8996-73ee46018320",
   "metadata": {},
   "outputs": [],
   "source": [
    "import numpy as np\n",
    "import matplotlib.pyplot as plt\n",
    "from matplotlib.ticker import FormatStrFormatter\n",
    "import matplotlib.ticker as ticker\n",
    "\n",
    "def makePhasePlotSim(freq, gain, phase, freqHz=0., ):\n",
    "    G = gain.copy()\n",
    "    F = freq.copy()\n",
    "    P = phase.copy()\n",
    "    fig, axes = plt.subplots(2,1)\n",
    "    fig.set_size_inches(8,8)\n",
    "    axes[0].plot(F,G,\"#ff0000\")\n",
    "    axes[1].plot(F,P,\"#00ff00\")\n",
    "    axes[0].set_xscale('log')\n",
    "    axes[1].set_xscale('log')\n",
    "    axes[0].set_xlabel(\"freq (Hz)\")\n",
    "    axes[1].set_xlabel(\"freq (Hz)\")\n",
    "    axes[0].set_ylabel(\"Amp (dB)\")\n",
    "    axes[1].set_ylabel(\"phase (deg)\")\n",
    "    if freqHz!=0:\n",
    "        axes[0].axvline(freqHz,color=\"b\",linestyle=\"dotted\")\n",
    "        axes[1].axvline(freqHz,color=\"b\",linestyle=\"dotted\")\n",
    "    axes[0].grid(True)\n",
    "    axes[1].grid(True)\n",
    "\n",
    "    plt.tight_layout()\n",
    "    plt.show()\n",
    "    \n",
    "def makePhasePlotSim2(freq1, gain1, phase1,freq2, gain2, phase2):\n",
    "  #  freq = processFile(filename, start_line,end_line, col=0)\n",
    "  #  gain = processFile(filename, start_line,end_line, col=1)\n",
    "  #  phase = processFile(filename, start_line,end_line, col=3,dbg=False)\n",
    "    G1 = gain1.copy()*(-1.)\n",
    "    G2 = gain2.copy()*(-1.)\n",
    "    P1 = phase1.copy()\n",
    "    P2 = phase2.copy()\n",
    "    F1 = freq1.copy()\n",
    "    F2 = freq2.copy()\n",
    "    fig, axes = plt.subplots(2,1)\n",
    "    fig.set_size_inches(8,8)\n",
    "    axes[0].plot(F1,G1,\"#ff0000\",label=\"sim\")\n",
    "    axes[1].plot(F1,P1,\"#ff0000\",label=\"sim\")\n",
    "    axes[0].plot(F2,G2,\"#00ff00\",marker=\"o\",label=\"data\")\n",
    "    axes[1].plot(F2,P2,\"#00ff00\",marker=\"o\",label=\"data\")\n",
    "    axes[0].set_xscale('log')\n",
    "    axes[1].set_xscale('log')\n",
    "    axes[0].set_xlabel(\"freq (Hz)\")\n",
    "    axes[1].set_xlabel(\"freq (Hz)\")\n",
    "    axes[0].set_ylabel(\"Amp (dB)\")\n",
    "    axes[1].set_ylabel(\"phase (deg)\")\n",
    "    axes[0].grid(True)\n",
    "    axes[1].grid(True)\n",
    "    axes[1].legend(loc=\"lower right\")\n",
    "    axes[0].legend(loc=\"lower left\")\n",
    "    axes[1].grid(True)\n",
    "    plt.tight_layout()\n",
    "    plt.show()    \n",
    "    \n",
    "\n",
    "def makeOscPlot(t1, ch1, t2, ch2, offset = 0):\n",
    "    fig, axes = plt.subplots(1,1)\n",
    "    t1_copy = t1.copy() - offset\n",
    "    t2_copy = t2.copy()-offset\n",
    "    axes.plot(t1_copy,ch1,\"#ff0000\",label=\"ch1 (source)\")\n",
    "    axes.plot(t2_copy,ch2,\"#0000ff\",label=\"ch2 (response)\")\n",
    "    axes.set_xlabel(\"t (us)\")\n",
    "    axes.set_ylabel(\"U (V)\")\n",
    "    axes.legend(loc=\"lower right\")\n",
    "    plt.tight_layout()\n",
    "    plt.show()\n",
    "\n",
    "class osci_data:\n",
    "    def __init__(self): \n",
    "        self.t1= None # czas 1 \n",
    "        self.t2 = None\n",
    "        self.ch1= None # kanal 1\n",
    "        self.ch2 = None\n",
    "    \n",
    "class filter_dataset:\n",
    "    def __init__(self):\n",
    "        self.freq_data=None\n",
    "        self.freq_sim=None\n",
    "        self.phase_data=None\n",
    "        self.phase_sim = None\n",
    "        self.gain_data = None\n",
    "        self.gain_sim = None\n",
    "        self.freq_01_sim = osci_data()\n",
    "        self.freq_10_sim = osci_data()\n",
    "        self.freq_01_data = osci_data()\n",
    "        self.freq_10_data = osci_data()"
   ]
  },
  {
   "cell_type": "markdown",
   "id": "ec8b5481-7fbc-4fce-b8a2-e1f49f31f824",
   "metadata": {
    "tags": []
   },
   "source": [
    "## Filtr dolnoprzepustowy:"
   ]
  },
  {
   "cell_type": "markdown",
   "id": "3c4eae73-46cf-4047-bb4b-6f95ed037ae7",
   "metadata": {},
   "source": [
    "Dane:"
   ]
  },
  {
   "cell_type": "markdown",
   "id": "ec990ac6-58aa-45fa-aad2-201b9c00aff7",
   "metadata": {},
   "source": [
    "# <font color=\"red\">Parsowanie do tablic:</font>\n",
    "UWAGA:\n",
    "genralnie to tylko przykład użycia kodu, w sprawozdaniu może zajść konieczność optymalizacji poniższych ustawień np.:\n",
    "* w celu poprawnego opisu osi\n",
    "* w celu wygenerowania ładnego wykresu (np. nie ma sensu generować wykresu gdzie przebiegi są \"za gęste\" i nic nie widać - można \"uciąć\" dane"
   ]
  },
  {
   "cell_type": "code",
   "execution_count": null,
   "id": "65e01ebe-1bf8-49aa-a66e-2538b0537a2a",
   "metadata": {},
   "outputs": [],
   "source": [
    "\n",
    "processFile(\"freq_sim\",\"data/gor_bode.txt\",4,14,0)\n",
    "processFile(\"gain_sim\",\"data/gor_bode.txt\",4,14,1)\n",
    "processFile(\"phase_sim\",\"data/gor_bode.txt\",4,14,2)\n",
    "\n",
    "processFile(\"freq_data\",\"data/gor_bode_real.txt\",4,14,0)\n",
    "processFile(\"gain_data\",\"data/gor_bode_real.txt\",4,14,1)\n",
    "processFile(\"phase_data\",\"data/gor_bode_real.txt\",4,14,2)\n",
    "\n",
    "nLines = 506\n",
    "nStart = 6\n",
    "nStep = 1\n",
    "path = \"data/100_hz_gor.txt\"\n",
    "\n",
    "processFile(\"t1_01_sim\",path,nStart,nLines,1,magic_time=True, step=nStep)\n",
    "processFile(\"t2_01_sim\",path,nStart,nLines,4,magic_time=True, step=nStep)\n",
    "\n",
    "processFile(\"ch1_01_sim\",path,nStart,nLines,2, step=nStep)\n",
    "processFile(\"ch2_01_sim\",path,nStart,nLines,5, step=nStep)\n",
    "\n",
    "\n",
    "nLines = 2506\n",
    "nStep =100\n",
    "path = \"data/100_hz_gor_real.txt\"\n",
    "processFile(\"t1_01_data\",path,nStart,nLines,1,magic_time=True, step=nStep)\n",
    "processFile(\"t2_01_data\",path,nStart,nLines,4,magic_time=True,step=nStep)\n",
    "\n",
    "processFile(\"ch1_01_data\",path,nStart,nLines,2,step=nStep)\n",
    "processFile(\"ch2_01_data\",path,nStart,nLines,5,step=nStep)\n",
    "\n",
    "\n",
    "nLines = 506\n",
    "nStep =50\n",
    "path = \"data/10k_hz_gor_real.txt\"\n",
    "processFile(\"t1_10_data\",path,nStart,nLines,1,magic_time=True, step=nStep)\n",
    "processFile(\"t2_10_data\",path,nStart,nLines,4,magic_time=True,step=nStep)\n",
    "processFile(\"ch1_10_data\",path,nStart,nLines,2,step=nStep)\n",
    "processFile(\"ch2_10_data\",path,nStart,nLines,5,step=nStep)\n",
    "\n",
    "\n",
    "nLines = 506\n",
    "\n",
    "path = \"data/10k_hz_gor.txt\"\n",
    "\n",
    "processFile(\"t1_10_sim\",path,nStart,nLines,1,magic_time=True, step=nStep)\n",
    "processFile(\"t2_10_sim\",path,nStart,nLines,4,magic_time=True,step=nStep)\n",
    "processFile(\"ch1_10_sim\",path,nStart,nLines,2, step=nStep)\n",
    "processFile(\"ch2_10_sim\",path,nStart,nLines,5, step=nStep)\n",
    "\n"
   ]
  },
  {
   "cell_type": "code",
   "execution_count": null,
   "id": "aa4bf262-461b-4c86-95ea-b65087d948f7",
   "metadata": {},
   "outputs": [],
   "source": [
    "# tutaj tworzymy wypełnione tablice\n",
    "# w zasadzie przeklejając output z góry"
   ]
  },
  {
   "cell_type": "code",
   "execution_count": null,
   "id": "d8ac2c86-dd37-4336-81d7-fd8c26eaadd7",
   "metadata": {},
   "outputs": [],
   "source": [
    "Filter =  filter_dataset()\n",
    "\n",
    "# tutaj sobie tworzymy wypełnione tablice \n",
    "\n",
    "# freq - czestotliwosci\n",
    "# data - dane\n",
    "# sim - symulacja\n",
    "# gain - amplitudoa\n",
    "# phase - faza\n",
    "#freq_01 dane dla f = 0.1 fg\n",
    "#freq_10 dane dla f = 10 fg\n",
    "\n",
    "Filter.freq_sim = freq_sim\n",
    "Filter.gain_sim = gain_sim\n",
    "Filter.phase_sim = phase_sim\n",
    "\n",
    "Filter.gain_data = gain_data\n",
    "Filter.freq_data = freq_data\n",
    "Filter.phase_data = phase_data\n",
    "\n",
    "Filter.freq_01_sim.t1 = t1_01_sim \n",
    "Filter.freq_01_sim.t2 = t2_01_sim\n",
    "Filter.freq_01_sim.ch1 = ch1_01_sim\n",
    "Filter.freq_01_sim.ch2 = ch2_01_sim\n",
    "Filter.freq_01_data.t1 = t1_01_data\n",
    "Filter.freq_01_data.t2 = t2_01_data\n",
    "Filter.freq_01_data.ch1 = ch1_01_data \n",
    "Filter.freq_01_data.ch2 = ch2_01_data\n",
    "\n",
    "Filter.freq_10_sim.t1 = t1_10_sim\n",
    "Filter.freq_10_sim.t2 = t2_10_sim\n",
    "Filter.freq_10_sim.ch1 = ch1_10_sim\n",
    "Filter.freq_10_sim.ch2 = ch2_10_sim\n",
    "Filter.freq_10_data.t1 = t1_10_data\n",
    "Filter.freq_10_data.t2 = t2_10_data\n",
    "Filter.freq_10_data.ch1 = ch1_10_data \n",
    "Filter.freq_10_data.ch2 = ch2_10_data"
   ]
  },
  {
   "cell_type": "markdown",
   "id": "989dab18-7f2d-4724-861b-c6cee817e9cd",
   "metadata": {},
   "source": [
    "### Symulacja\n",
    "Wykres charektrystyki amplitudowej i fazowej."
   ]
  },
  {
   "cell_type": "code",
   "execution_count": null,
   "id": "79bf5bac-8394-45b5-b3f7-e01690c70953",
   "metadata": {},
   "outputs": [],
   "source": [
    "makePhasePlotSim(Filter.freq_sim, Filter.gain_sim, Filter.phase_sim)\n"
   ]
  },
  {
   "cell_type": "markdown",
   "id": "a38eee99-6f4e-4205-a91b-04db5c4e3466",
   "metadata": {},
   "source": [
    "Odpowiedź układu na sygnał prostokątny o częstotliwośi 0.1 fg"
   ]
  },
  {
   "cell_type": "code",
   "execution_count": null,
   "id": "93308485-678d-4937-be3c-88120b5cf243",
   "metadata": {},
   "outputs": [],
   "source": [
    "makeOscPlot(Filter.freq_01_sim.t1,Filter.freq_01_sim.ch1,Filter.freq_01_sim.t2,Filter.freq_01_sim.ch2 ,offset=740000)"
   ]
  },
  {
   "cell_type": "markdown",
   "id": "29d164e0-738f-47f2-94cc-ff5f9340e00c",
   "metadata": {},
   "source": [
    "Odpowiedź układu na sygnał prostokątny o częstotliwośi 10 fg"
   ]
  },
  {
   "cell_type": "code",
   "execution_count": null,
   "id": "afa847ab-0418-4b30-b89b-7de034727564",
   "metadata": {},
   "outputs": [],
   "source": [
    "makeOscPlot(Filter.freq_10_sim.t1,Filter.freq_10_sim.ch1,Filter.freq_10_sim.t2,Filter.freq_10_sim.ch2 ,offset=740000)"
   ]
  },
  {
   "cell_type": "markdown",
   "id": "76364c4e-a32b-4cec-943d-10e7efd9402b",
   "metadata": {},
   "source": [
    "### Pomiar\n",
    "Wykres charakterystyki fazowej i amplitudowej."
   ]
  },
  {
   "cell_type": "code",
   "execution_count": null,
   "id": "9fbab49f-444d-46e3-9c44-ba9caa8a8c74",
   "metadata": {},
   "outputs": [],
   "source": [
    "makePhasePlotSim(Filter.freq_data, Filter.gain_data, Filter.phase_data)"
   ]
  },
  {
   "cell_type": "markdown",
   "id": "c1b82db3-3ef7-4450-bf74-dc871ce29d34",
   "metadata": {},
   "source": [
    "Odpowiedź układu na sygnał prostokątny o częstotliwośi 0.1 fg"
   ]
  },
  {
   "cell_type": "code",
   "execution_count": null,
   "id": "409328ca-3ddf-4021-8077-649b47d089a9",
   "metadata": {},
   "outputs": [],
   "source": [
    "makeOscPlot(Filter.freq_01_data.t1,Filter.freq_01_data.ch1,Filter.freq_01_data.t2,Filter.freq_01_data.ch2 )"
   ]
  },
  {
   "cell_type": "markdown",
   "id": "48db8524-ff8a-44d0-8689-7b6dd35035a1",
   "metadata": {},
   "source": [
    "Odpowiedź układu na sygnał prostokątny o częstotliwośi 10 fg"
   ]
  },
  {
   "cell_type": "code",
   "execution_count": null,
   "id": "ea0021da-7891-4974-9fb2-aec9137d6ab2",
   "metadata": {},
   "outputs": [],
   "source": [
    "makeOscPlot(Filter.freq_10_data.t1,Filter.freq_10_data.ch1,Filter.freq_10_data.t2,Filter.freq_10_data.ch2 )"
   ]
  },
  {
   "cell_type": "code",
   "execution_count": null,
   "id": "5dd3fee8-52aa-4e0f-9cf3-4ffcda4887b9",
   "metadata": {},
   "outputs": [],
   "source": []
  }
 ],
 "metadata": {
  "kernelspec": {
   "display_name": "Python 3 (ipykernel)",
   "language": "python",
   "name": "python3"
  },
  "language_info": {
   "codemirror_mode": {
    "name": "ipython",
    "version": 3
   },
   "file_extension": ".py",
   "mimetype": "text/x-python",
   "name": "python",
   "nbconvert_exporter": "python",
   "pygments_lexer": "ipython3",
   "version": "3.8.10"
  }
 },
 "nbformat": 4,
 "nbformat_minor": 5
}
