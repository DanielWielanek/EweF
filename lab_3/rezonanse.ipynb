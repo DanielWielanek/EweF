{
 "cells": [
  {
   "cell_type": "code",
   "execution_count": null,
   "id": "e249092e-b160-475e-8288-a0171954ad2e",
   "metadata": {},
   "outputs": [],
   "source": [
    "# kody pomocniczne:\n",
    "import numpy as np\n",
    "import matplotlib.pyplot as plt\n",
    "from matplotlib.ticker import FormatStrFormatter\n",
    "import matplotlib.ticker as ticker\n",
    "\n",
    "class bode:\n",
    "    def __init__(self,freq,gain,label,color,marker=\"none\",f=None, q=None):\n",
    "        self.freq = freq\n",
    "        self.gain = gain\n",
    "        self.label = label\n",
    "        self.color = color\n",
    "        self.marker = marker\n",
    "        self.f = f\n",
    "        self.q = q\n",
    "        self.r = 0\n",
    "\n",
    "\n",
    "def makePhasePlot(plots, labelY=\"|I (A)\"):\n",
    "  #  freq = processFile(filename, start_line,end_line, col=0)\n",
    "  #  gain = processFile(filename, start_line,end_line, col=1)\n",
    "  #  phase = processFile(filename, start_line,end_line, col=3,dbg=False)\n",
    "    fig, axes = plt.subplots(1,1)\n",
    "    fig.set_size_inches(8,8)\n",
    "    for bode in plots:\n",
    "        axes.plot(bode.freq,bode.gain,bode.color,label=bode.label, marker = bode.marker)\n",
    "        if bode.f!= None:\n",
    "            axes.axvline(bode.f,color=bode.color)\n",
    "        if bode.q!=None:\n",
    "            fx = bode.f\n",
    "            dfx = fx/(2.0*bode.q)\n",
    "            axes.axvline(fx+dfx,linestyle=\"dotted\",color=bode.color)\n",
    "            axes.axvline(fx-dfx,linestyle=\"dotted\",color=bode.color)\n",
    "        \n",
    "    axes.legend(loc=\"lower right\")\n",
    "        \n",
    "    axes.set_ylabel(labelY)\n",
    "    \n",
    "    axes.grid(True)\n",
    "       # ax.set_xscale(\"log\")\n",
    "    axes.set_xlabel(\"freq (Hz)\")\n",
    "    axes.legend(loc=\"upper right\")\n",
    "\n",
    "        \n",
    "    plt.tight_layout()\n",
    "    plt.show()\n",
    "clx = [\"#FF0000\",\"#008000\",\"#000080\",\"#FF00FF\",\"#800080\",\"#800000\"]"
   ]
  },
  {
   "cell_type": "markdown",
   "id": "8ee3846b-fb4b-4fcd-ad77-201be448425d",
   "metadata": {},
   "source": [
    "# Obwody rezonansowe\n",
    "## Dane zespołu\n",
    "\n",
    "1. \n",
    "\n",
    "2.\n",
    "\n",
    "Uwagi praktyczne:\n",
    "* aby było łatwiej częstotliwość jest wczytywana jeden raz - dlatego trzeba pilnować, aby w każdej serii pomiarowej pomiar był odpowiednio skonfigurowany\n",
    "* ustwiamy skalę logarytmiczną w pomiarach (analizator Bodego)\n",
    "* przy pomiarze notujemy częstotliwości f1, f2 i f0\n",
    "* arkusz został napisany tak, aby wypełniać go/uruchamiać po kolei, uruchamianie komórek w losowej kolejności, może generować błędy\n",
    "* po zakończeniu pracy wysyłamy arkusz w postaci pliku pdf"
   ]
  },
  {
   "cell_type": "markdown",
   "id": "7fb4de70-38b9-42d5-bef9-d061131a7c12",
   "metadata": {},
   "source": [
    "## Obwód szeregowy\n",
    "\n",
    "### Analizator Bodego\n",
    "Wyniki pomiarów opornik $33 \\Omega$:"
   ]
  },
  {
   "cell_type": "code",
   "execution_count": null,
   "id": "bb5a4697-ad18-4dfb-97cd-28b81da238ad",
   "metadata": {},
   "outputs": [],
   "source": [
    "# dane pomiarowe\n",
    "freq=\n",
    "gain=\n",
    "#przeliczenie na prad\n",
    "# np. gdyby to był sinus to wzór by wyglądał tak \n",
    "#current = np.sin(gain)\n",
    "# a gdyby trzeba było przemnożyć przez np. 10 tak:\n",
    "# current = gain*10\n",
    " "
   ]
  },
  {
   "cell_type": "code",
   "execution_count": null,
   "id": "2f83ae36-1139-4f83-9f01-769fcaf5d6c6",
   "metadata": {},
   "outputs": [],
   "source": [
    "bode_33_data = bode(freq,current,\"data 33\",clx[0])"
   ]
  },
  {
   "cell_type": "markdown",
   "id": "189afc5f-c300-4e34-943c-9a844a2f9dac",
   "metadata": {},
   "source": [
    "Wyniki pomiarów $130 \\Omega$"
   ]
  },
  {
   "cell_type": "code",
   "execution_count": null,
   "id": "df2ff7c6-090e-4c6a-96c8-127c94202501",
   "metadata": {},
   "outputs": [],
   "source": [
    "# dane pomiarowe\n",
    "gain=\n",
    "#przeliczenie na prad\n",
    "current = \n"
   ]
  },
  {
   "cell_type": "code",
   "execution_count": null,
   "id": "3d2cf5ca-8eb3-44af-8c9e-f7fbedf2faf0",
   "metadata": {},
   "outputs": [],
   "source": [
    "bode_130_data = bode(freq,current,\"data 130\",clx[1]) "
   ]
  },
  {
   "cell_type": "markdown",
   "id": "ea82a258-1116-44d0-b105-925a4dec59d3",
   "metadata": {},
   "source": [
    "Symulacje $33 \\Omega$"
   ]
  },
  {
   "cell_type": "markdown",
   "id": "149e8d0f-d21a-48f8-b75f-89de7f308c49",
   "metadata": {},
   "source": [
    "Dopasowana rezystancja cewki"
   ]
  },
  {
   "cell_type": "code",
   "execution_count": null,
   "id": "90de5e97-7efd-4025-b882-baaa6284618d",
   "metadata": {},
   "outputs": [],
   "source": [
    "r_coil = "
   ]
  },
  {
   "cell_type": "code",
   "execution_count": null,
   "id": "f34ec6c5-324b-4d9b-b202-1ac127255108",
   "metadata": {},
   "outputs": [],
   "source": [
    "# dane z symulacji\n",
    "gain=\n",
    "\n",
    "#przeliczenie na prad\n",
    "current = \n"
   ]
  },
  {
   "cell_type": "code",
   "execution_count": null,
   "id": "5c2ca824-2a54-427f-9932-6188faeaef5e",
   "metadata": {},
   "outputs": [],
   "source": [
    "bode_33_sim_cor = bode(freq,current,\"sim cor 33 R={0}\".format(r_coil),clx[4]) "
   ]
  },
  {
   "cell_type": "markdown",
   "id": "9b840c11-a612-46c3-aece-fec7f1d59444",
   "metadata": {},
   "source": [
    "Symulacje $130 \\Omega$ "
   ]
  },
  {
   "cell_type": "code",
   "execution_count": null,
   "id": "b3334e81-3b77-4dae-ac8c-33f7b39cc294",
   "metadata": {},
   "outputs": [],
   "source": [
    "# dane z symulacji\n",
    "gain = \n",
    "#przeliczenie na prad\n",
    "current = \n"
   ]
  },
  {
   "cell_type": "code",
   "execution_count": null,
   "id": "b2bea3be-5b19-4dbe-a181-9ad364c2d76b",
   "metadata": {},
   "outputs": [],
   "source": [
    "bode_130_sim_cor=bode(freq,current,\"sim cor 130 R={0}\".format(r_coil),clx[5])"
   ]
  },
  {
   "cell_type": "markdown",
   "id": "9663c5b6-679d-4cc4-9a48-f682462cc8a2",
   "metadata": {},
   "source": [
    "<font color=\"red\">Wyznaczanie dobroci i częstotliwości rezonansowych na podstawie otrzymanych wyników.</font>\n"
   ]
  },
  {
   "cell_type": "markdown",
   "id": "4751c38d-3072-4edd-a209-08333a6213a8",
   "metadata": {},
   "source": [
    "\n",
    "\n",
    "tu należy wpisać równania, które są użyte do wypełnienia tabeli niżej, łącznie z tymi użytymi do policzenia niepewności. W każdym przypadku należy napisać skąd wzięto określone wartości niepewności. Przykładowo gdy wzór na niepewność wielkości \"X\" zależy od niepewności wielkości \"Y\" i wyraża się równaniem u(X)=u(Y)\\*5 to trzeba podać skąd wzięto niepewność u(Y) i ile ona wynosiła.\n",
    "\n",
    "\n",
    "\n",
    "<font color=\"red\" >tabelka do wypełnienia </font>\n",
    "\n",
    "\n",
    "wpisujemy \"wartość (niepewność)\"\n",
    "\n",
    "pomiar | R=33 $\\Omega$ | R=130 $\\Omega$| jednostka\n",
    "-------------------|------------------|------------------|------------------\n",
    "f  |  |   \n",
    "f1 |  |   \n",
    "f2 |  |   \n",
    "B |  |   \n",
    "Q |  |   "
   ]
  },
  {
   "cell_type": "code",
   "execution_count": null,
   "id": "0216674b-0bd4-4f52-b038-5d583df65697",
   "metadata": {},
   "outputs": [],
   "source": [
    "# porowanie wynikow, wpisać żeby się generowały ładne wykresy\n",
    "bode_33_data.f = # czestotliwosc rezonansowa 33 \\Omega\n",
    "bode_33_data.q = # dobroc \n",
    "bode_130_data.f = # czestotliwosc rezonansowa 130 \\Omega\n",
    "bode_130_data.q = # dobroc"
   ]
  },
  {
   "cell_type": "markdown",
   "id": "091e0706-6147-442a-b53c-808b577aa719",
   "metadata": {},
   "source": [
    "Wykresy"
   ]
  },
  {
   "cell_type": "code",
   "execution_count": null,
   "id": "f9def80f-8270-48d7-b67a-8105a6f0fa0e",
   "metadata": {},
   "outputs": [],
   "source": [
    "\n",
    "# porowanie wynikow - symulacje vs dane\n",
    "makePhasePlot([bode_33_data,bode_33_sim_cor])\n",
    "makePhasePlot([bode_130_data,bode_130_sim_cor])\n",
    "makePhasePlot([bode_33_data,bode_130_data])"
   ]
  },
  {
   "cell_type": "markdown",
   "id": "75a798d4-f6fc-4ccc-99a6-8ee68045bfd9",
   "metadata": {},
   "source": [
    "<font color=\"red\"> Policzyć dobroć cewki QL oraz oporność strat.</font>\n",
    "Policzyć również niepewności tych wartości. Wypisać użyte wzory."
   ]
  },
  {
   "cell_type": "code",
   "execution_count": null,
   "id": "202a429c-8299-4ec0-aa9f-0897eb7138b7",
   "metadata": {},
   "outputs": [],
   "source": []
  },
  {
   "cell_type": "markdown",
   "id": "3da09762-bdd7-48a1-afc0-39b4704da713",
   "metadata": {},
   "source": [
    "## Pomiary bez wzmacniacza (oscyloskop) R=$30\\Omega$\n",
    "Tutaj załącza się obrazy.\n",
    "### f = f0"
   ]
  },
  {
   "cell_type": "code",
   "execution_count": null,
   "id": "bd711034-65b7-4faf-9013-3404bb1146f1",
   "metadata": {},
   "outputs": [],
   "source": [
    "# obrazek"
   ]
  },
  {
   "cell_type": "markdown",
   "id": "44dd0758-4760-4626-83c6-944c9aeb3817",
   "metadata": {},
   "source": [
    "f = 1/2 f0"
   ]
  },
  {
   "cell_type": "code",
   "execution_count": null,
   "id": "0c72a2db-4fd2-4668-a57c-aaa079d2203a",
   "metadata": {},
   "outputs": [],
   "source": [
    "# obrazek"
   ]
  },
  {
   "cell_type": "markdown",
   "id": "ed5dd41c-ca60-496d-bf8d-a228ce8e4e6c",
   "metadata": {},
   "source": [
    "f = 1/3 f0"
   ]
  },
  {
   "cell_type": "code",
   "execution_count": null,
   "id": "d53778d8-84ea-4336-957d-c2d69c57ec3a",
   "metadata": {},
   "outputs": [],
   "source": [
    "# obrazek"
   ]
  },
  {
   "cell_type": "markdown",
   "id": "7027e370-ed0a-4bda-b7e3-ea90137ac39c",
   "metadata": {},
   "source": [
    "Amplitudy kolejnych harmonicznych, (przyjąć, że dla f0 amplituda  = 1  (w kolumnie A względne)). \n",
    "\n",
    "\n",
    "f | A (mV) | A (wzgledne dla f0 =1) | A Teoretyczne\\*\n",
    "-------------------|------------------|------------------|------------------\n",
    "f0 |  |  1 | 1\n",
    "f0/2 | | |\n",
    "f0/3 | | |\n",
    "\n",
    "\\* stosunki amplitud kolejnych harmonicznych (drugiej względem pierwszej i trzeciej względem pierwszej patrz. pkt 7 instrukcji)\n"
   ]
  },
  {
   "cell_type": "markdown",
   "id": "0a0a246b-b962-4b8f-b06a-1dd891386c53",
   "metadata": {},
   "source": [
    "## Obwód równoległy\n",
    "### Analizator Bodego\n",
    "Rezystor $ 30k \\Omega$\n",
    "Wyniki pomiarów:"
   ]
  },
  {
   "cell_type": "code",
   "execution_count": null,
   "id": "7524d6e7-e048-4895-b1b4-e874d75767cc",
   "metadata": {},
   "outputs": [],
   "source": [
    "# dane pomiarowe\n",
    "gain = \n",
    "#przeliczenie napięcia\n",
    "\n",
    "voltage =\n"
   ]
  },
  {
   "cell_type": "code",
   "execution_count": null,
   "id": "dcaf5d6f-3626-4a38-96ab-ed92ed028440",
   "metadata": {},
   "outputs": [],
   "source": [
    "bode_30k_data=bode(freq,voltage,\"data 30k\",clx[0]) "
   ]
  },
  {
   "cell_type": "markdown",
   "id": "eab79955-cac0-4f6b-8b7a-82c77dd549aa",
   "metadata": {},
   "source": [
    "Rezystor $10k \\Omega$ wyniki pomiarów:"
   ]
  },
  {
   "cell_type": "code",
   "execution_count": null,
   "id": "4c0b3836-60d6-404b-9314-9a5937ba45e1",
   "metadata": {},
   "outputs": [],
   "source": [
    "# dane pomiarowe\n",
    "gain = \n",
    "#przeliczenie napięcia\n",
    "\n",
    "voltage =\n"
   ]
  },
  {
   "cell_type": "code",
   "execution_count": null,
   "id": "ab750ea1-869d-4ac0-9e5d-85802df42a83",
   "metadata": {},
   "outputs": [],
   "source": [
    "bode_10k_data=bode(freq,voltage,\"data 10k\",clx[1]) "
   ]
  },
  {
   "cell_type": "markdown",
   "id": "02fa7232-928c-4606-98dc-e86ffc183364",
   "metadata": {},
   "source": [
    "Symulacje $30k \\Omega$"
   ]
  },
  {
   "cell_type": "code",
   "execution_count": null,
   "id": "753bee68-3720-4124-b241-bd736f01bb74",
   "metadata": {},
   "outputs": [],
   "source": [
    "# dane z symulacji\n",
    "gain = \n",
    "#przeliczenie napięcia\n",
    "voltage ="
   ]
  },
  {
   "cell_type": "code",
   "execution_count": null,
   "id": "eccd8123-6b6d-4998-b747-fc5b6a5824a8",
   "metadata": {},
   "outputs": [],
   "source": [
    "bode_30k_sim=bode(freq,voltage,\"sim 30k\",clx[2]) "
   ]
  },
  {
   "cell_type": "markdown",
   "id": "44857ccc-8ee1-4444-8d6a-7dc54392bb4f",
   "metadata": {},
   "source": [
    "Symulacje $10k \\Omega$"
   ]
  },
  {
   "cell_type": "code",
   "execution_count": null,
   "id": "2718c980-2a39-4fc1-94a4-906a9faf4f2c",
   "metadata": {},
   "outputs": [],
   "source": [
    "# dane z symulacji\n",
    "gain = \n",
    "#przeliczenie napięcia\n",
    "voltage =\n"
   ]
  },
  {
   "cell_type": "code",
   "execution_count": null,
   "id": "7b5289c5-0bd9-4b31-a2b9-63753ec8c65b",
   "metadata": {},
   "outputs": [],
   "source": [
    "bode_10k_sim=bode(freq,voltage,\"sim 10k\",clx[3]) "
   ]
  },
  {
   "cell_type": "markdown",
   "id": "af562371-50aa-4ea3-8492-8bb6daf41a0a",
   "metadata": {},
   "source": [
    "<font color=\"red\">Wyznaczanie dobroci i częstotliwości rezonansowych na podstawie otrzymanych wyników.</font>\n"
   ]
  },
  {
   "cell_type": "markdown",
   "id": "8d1de534-8f5e-4178-8d6f-62c1351aca85",
   "metadata": {},
   "source": [
    "\n",
    "\n",
    "tu należy wpisać równania, które są użyte do wypełnienia tabeli niżej\n",
    "\n",
    "\n",
    "\n",
    "<font color=\"red\" >tabelka do wypełnienia </font>\n",
    "\n",
    "\n",
    "wpisujemy \"wartość (niepewność)\"\n",
    "\n",
    "pomiar | R=30 $k\\Omega$ | R=10 $k\\Omega$| jednostka\n",
    "-------------------|------------------|------------------|------------------\n",
    "f  |  |   |\n",
    "f1 |  |   |\n",
    "f2 |  |   |\n",
    "B |  |   |\n",
    "Q |  | |\n"
   ]
  },
  {
   "cell_type": "code",
   "execution_count": null,
   "id": "58ebedcd-b6bd-4706-8f41-0c1dd43ebfe9",
   "metadata": {},
   "outputs": [],
   "source": [
    "# porowanie wynikow - dane różne opory\n",
    "bode_30k_data.f = # czestotliwosc rezonansowa\n",
    "bode_30k_data.q = # dobroc\n",
    "bode_10k_data.f = # czestotliwosc rezonansowa\n",
    "bode_10k_data.q = # dobroc\n"
   ]
  },
  {
   "cell_type": "markdown",
   "id": "f6313692-ab2c-4b75-aa64-2e0b0b689147",
   "metadata": {},
   "source": [
    "Wykresy"
   ]
  },
  {
   "cell_type": "code",
   "execution_count": null,
   "id": "8b60e61e-4082-425e-9b0c-7a83a0b875b1",
   "metadata": {},
   "outputs": [],
   "source": [
    "\n",
    "# porowanie wynikow - symulacje vs dane\n",
    "makePhasePlot([bode_30k_data,bode_30k_sim],labelY=\"|U| (V)\") # zakomentować jeśli nie zrobiono symulacji\n",
    "makePhasePlot([bode_10k_data,bode_10k_sim],labelY=\"|U| (V)\") # zakomentować jeśli nie zrobiono symulacji\n",
    "makePhasePlot([bode_30k_data,bode_10k_data],labelY=\"|U| (V)\")"
   ]
  },
  {
   "cell_type": "markdown",
   "id": "dd1d7f99-3f6d-4f6e-b13e-82d03a15da3e",
   "metadata": {
    "tags": []
   },
   "source": [
    "### Oscyloskop R=30 $k\\Omega$\n",
    "f = f0"
   ]
  },
  {
   "cell_type": "code",
   "execution_count": null,
   "id": "4e6d19d1-0277-4ffc-9a5e-63e5ed01d9b9",
   "metadata": {},
   "outputs": [],
   "source": [
    "# obrazek"
   ]
  },
  {
   "cell_type": "markdown",
   "id": "b49c3a9c-ab24-4bc6-84f2-00dd84e2fb60",
   "metadata": {},
   "source": [
    "f = f0/2"
   ]
  },
  {
   "cell_type": "code",
   "execution_count": null,
   "id": "cd08eaf9-f910-43c2-a7a2-3005bbcab9a8",
   "metadata": {},
   "outputs": [],
   "source": [
    "# obrazek"
   ]
  },
  {
   "cell_type": "markdown",
   "id": "c3217cdb-7f12-469a-a51c-90759c3bfb5d",
   "metadata": {},
   "source": [
    "f = f0/3"
   ]
  },
  {
   "cell_type": "code",
   "execution_count": null,
   "id": "6bce08fc-8cd7-419e-a254-12ef9a4aa1bd",
   "metadata": {},
   "outputs": [],
   "source": [
    "# obrazek"
   ]
  },
  {
   "cell_type": "markdown",
   "id": "fd63957d-9b34-483a-a3cb-209cf44e95b7",
   "metadata": {},
   "source": [
    "Amplitudy kolejnych harmonicznych, (przyjąć, że dla f0 amplituda  = 1  (w kolumnie A względne)). \n",
    "\n",
    "\n",
    "f | A (mV) | A (wzgledne dla f0 =1) | A Teoretyczne\\*\n",
    "-------------------|------------------|------------------|------------------\n",
    "f0 |  |  1 | 1\n",
    "f0/2 | | |\n",
    "f0/3 | | |\n",
    "\n",
    "\\* stosunki amplitud kolejnych harmonicznych (drugiej względem pierwszej i trzeciej względem pierwszej patrz. pkt 7 instrukcji)\n"
   ]
  },
  {
   "cell_type": "markdown",
   "id": "e432165e-20ca-4491-8486-f74b90296873",
   "metadata": {},
   "source": [
    "### Pomiar z nieznanym kondensatorem"
   ]
  },
  {
   "cell_type": "code",
   "execution_count": null,
   "id": "f6f772ab-ca98-4172-a485-7fd0c22da8d3",
   "metadata": {},
   "outputs": [],
   "source": [
    "# dane pomiarowe\n",
    "#freq = \n",
    "gain = \n",
    "#przeliczenie\n",
    "voltage = \n",
    "bode_unknown=bode(freq,voltage,phase,\"unknown\",\"#cc2dce\")\n",
    "bode_unknown.f = # czestotliwosc rezonansowa, obliczenia poniżej\n",
    "makePhasePlot([bode_unknown],\"U (V)\")"
   ]
  },
  {
   "cell_type": "markdown",
   "id": "47a616ec-f57a-49c5-9330-779711fddb00",
   "metadata": {},
   "source": [
    "Częstotliwość rezonansowa (wzór, niepewności)."
   ]
  },
  {
   "cell_type": "code",
   "execution_count": null,
   "id": "57b59be9-9325-427f-9ad9-6a6b6db915ce",
   "metadata": {},
   "outputs": [],
   "source": []
  },
  {
   "cell_type": "markdown",
   "id": "fceae82b-65c0-4f92-a99f-ff644500eca9",
   "metadata": {},
   "source": [
    "<font color=\"red\">Pojemność nieznanego kondensatora z niepewnościami</font>"
   ]
  },
  {
   "cell_type": "code",
   "execution_count": null,
   "id": "9dea39be-c71d-4518-a5c9-921a46b9aa25",
   "metadata": {},
   "outputs": [],
   "source": []
  }
 ],
 "metadata": {
  "kernelspec": {
   "display_name": "Python 3 (ipykernel)",
   "language": "python",
   "name": "python3"
  },
  "language_info": {
   "codemirror_mode": {
    "name": "ipython",
    "version": 3
   },
   "file_extension": ".py",
   "mimetype": "text/x-python",
   "name": "python",
   "nbconvert_exporter": "python",
   "pygments_lexer": "ipython3",
   "version": "3.8.10"
  }
 },
 "nbformat": 4,
 "nbformat_minor": 5
}
